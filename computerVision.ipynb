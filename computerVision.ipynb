{
  "nbformat": 4,
  "nbformat_minor": 0,
  "metadata": {
    "colab": {
      "provenance": [],
      "gpuType": "T4",
      "authorship_tag": "ABX9TyO1dDrP3ILmnBK0j4RJWU+e",
      "include_colab_link": true
    },
    "kernelspec": {
      "name": "python3",
      "display_name": "Python 3"
    },
    "language_info": {
      "name": "python"
    },
    "accelerator": "GPU"
  },
  "cells": [
    {
      "cell_type": "markdown",
      "metadata": {
        "id": "view-in-github",
        "colab_type": "text"
      },
      "source": [
        "<a href=\"https://colab.research.google.com/github/bxlltrx/erg/blob/main/computerVision.ipynb\" target=\"_parent\"><img src=\"https://colab.research.google.com/assets/colab-badge.svg\" alt=\"Open In Colab\"/></a>"
      ]
    },
    {
      "cell_type": "code",
      "execution_count": null,
      "metadata": {
        "collapsed": true,
        "id": "-rzOgpvCrRO1"
      },
      "outputs": [],
      "source": [
        "!pip install roboflow\n",
        "\n",
        "#датасет https://app.roboflow.com/123-rg0hb/123-egldz/2\n",
        "from roboflow import Roboflow\n",
        "rf = Roboflow(api_key=\"GShBWZXpnrNQfWk0eu0t\")\n",
        "project = rf.workspace(\"123-rg0hb\").project(\"123-egldz\")\n",
        "version = project.version(2)\n",
        "dataset = version.download(\"yolov8\")\n"
      ]
    },
    {
      "cell_type": "code",
      "source": [
        "!pip install ultralytics\n",
        "\n",
        "from ultralytics import YOLO\n",
        "!yolo task=detect mode=train model=yolov8n.pt data={dataset.location}/data.yaml epochs=200"
      ],
      "metadata": {
        "collapsed": true,
        "id": "cIzpnT4_ryYp"
      },
      "execution_count": null,
      "outputs": []
    },
    {
      "cell_type": "code",
      "source": [
        "!yolo task=detect mode=predict model=/content/runs/detect/train/weights/best.pt source=/content/720x.jpg"
      ],
      "metadata": {
        "collapsed": true,
        "id": "5yWDr4Lnr8KZ"
      },
      "execution_count": null,
      "outputs": []
    }
  ]
}