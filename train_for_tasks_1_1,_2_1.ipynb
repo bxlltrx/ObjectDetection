{
  "nbformat": 4,
  "nbformat_minor": 0,
  "metadata": {
    "colab": {
      "provenance": [],
      "gpuType": "T4",
      "authorship_tag": "ABX9TyMEm3MxetccgZc6fZNq/4O+",
      "include_colab_link": true
    },
    "kernelspec": {
      "name": "python3",
      "display_name": "Python 3"
    },
    "language_info": {
      "name": "python"
    },
    "accelerator": "GPU"
  },
  "cells": [
    {
      "cell_type": "markdown",
      "metadata": {
        "id": "view-in-github",
        "colab_type": "text"
      },
      "source": [
        "<a href=\"https://colab.research.google.com/github/bxlltrx/erg/blob/main/train_for_tasks_1_1%2C_2_1.ipynb\" target=\"_parent\"><img src=\"https://colab.research.google.com/assets/colab-badge.svg\" alt=\"Open In Colab\"/></a>"
      ]
    },
    {
      "cell_type": "code",
      "execution_count": null,
      "metadata": {
        "id": "9jn0812UfSvo"
      },
      "outputs": [],
      "source": [
        "!pip install roboflow\n",
        "\n",
        "from roboflow import Roboflow\n",
        "rf = Roboflow(api_key=\"GShBWZXpnrNQfWk0eu0t\")\n",
        "project = rf.workspace(\"123-rg0hb\").project(\"123-egldz\")\n",
        "version = project.version(4)\n",
        "dataset = version.download(\"yolov8\")"
      ]
    },
    {
      "cell_type": "code",
      "source": [
        "!pip install ultralytics\n",
        "from ultralytics import YOLO\n",
        "\n",
        "!yolo task=detect mode=train model=yolov8l.pt data={dataset.location}/data.yaml epochs=50"
      ],
      "metadata": {
        "id": "KWonNqN8fWle"
      },
      "execution_count": null,
      "outputs": []
    }
  ]
}